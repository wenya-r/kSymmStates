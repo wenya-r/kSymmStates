{
 "cells": [
  {
   "cell_type": "code",
   "execution_count": 1,
   "metadata": {},
   "outputs": [],
   "source": [
    "import sympy\n",
    "from sympy.physics.quantum.cg import CG, cg_simp\n",
    "import dill"
   ]
  },
  {
   "cell_type": "markdown",
   "metadata": {},
   "source": [
    "The starting state is '1', '0', '-1'.\n",
    "\n",
    "The Clebsch-Gordon coefficient is $<j_1,m_1;j_2,m_2|JMj_1,j_2>$.\n",
    "\n",
    "The coupled state can expressed as:\n",
    "$$|JMj_1j_2> = \\sum_{m_1=-j_1}^{j_1}\\sum_{m_2=-j_2}^{j_2} |j_1,m_1;j_2,m_2> <j_1,m_1;j_2,m_2|JMj_1j_2\\rangle $$.\n",
    "\n",
    "The initial states are '1', '0', abd '-1'.   The states written in binary are $|2\\rangle$, $|1\\rangle$, and $|0\\rangle$. \n"
   ]
  },
  {
   "cell_type": "code",
   "execution_count": 2,
   "metadata": {},
   "outputs": [
    {
     "ename": "SyntaxError",
     "evalue": "invalid syntax (<ipython-input-2-77a6785677bb>, line 1)",
     "output_type": "error",
     "traceback": [
      "\u001b[0;36m  File \u001b[0;32m\"<ipython-input-2-77a6785677bb>\"\u001b[0;36m, line \u001b[0;32m1\u001b[0m\n\u001b[0;31m    class state(statesOfL-1,  )\u001b[0m\n\u001b[0m                               ^\u001b[0m\n\u001b[0;31mSyntaxError\u001b[0m\u001b[0;31m:\u001b[0m invalid syntax\n"
     ]
    }
   ],
   "source": [
    "class state(statesOfLn1, listS,  )\n",
    "\n",
    "\n",
    "# What is the format of state? ListS\n",
    "# numpy 4x3^L  JM:j1,j2. \n",
    "# sparse format vector (3^L)\n",
    "# List of o12\n",
    "    \n",
    "\n",
    "\n",
    "\n",
    "\n",
    "def converteSymtoNum\n",
    "    pass\n",
    "\n"
   ]
  },
  {
   "cell_type": "markdown",
   "metadata": {},
   "source": [
    "* Retrive state set of (L-1)-site|JM;j1,j2> , total state list([3, 2, 1, 2, 1, 0, 1]) for L =3, basis list.\n",
    "\n",
    "* We need to calculate The same items for L-site case. \n",
    "* And save it.\n",
    "To start, we have L = 2. "
   ]
  },
  {
   "cell_type": "code",
   "execution_count": 3,
   "metadata": {},
   "outputs": [],
   "source": [
    "def prod_to_add(L):\n",
    "    if L == 1: \n",
    "        return [1]\n",
    "    else:\n",
    "        add_list = []\n",
    "        for i in prod_to_add(L-1):\n",
    "            add = [j for j in range(i+1, abs(i-1)-1, -1)]\n",
    "            add_list += add\n",
    "        return add_list\n",
    "\n",
    "def L_symbol(L, sym = ['2','1','0'], ): \n",
    "    sym = ['2','1','0']\n",
    "    if L == 1:\n",
    "        pass\n",
    "    else:\n",
    "        sym = [a+b for a in L_symbol(L-1) for b in sym]\n",
    "    return sym\n",
    "\n",
    "def printList(L):\n",
    "    if L == 2:\n",
    "        for i in prod_to_add(L):\n",
    "            for j in range(i, -i-1, -1):\n",
    "                print(\"|J:%d,M:%d; j1:1,j2:1> = \"%(i,j))\n",
    "                print(state(L, i,j, j1=1), '\\n')\n",
    "    else: \n",
    "        prepreLayer = prod_to_add(L-2)\n",
    "        preLayer = prod_to_add(L-1)\n",
    "        for j1 in preLayer: \n",
    "            for j in range(j1+1, abs(j1-1)-1, -1):\n",
    "                for m in range(j,-j-1,-1):\n",
    "                    print(\"|J:%d,M:%d; j1:%d,j2:1> = \"%(j,m,j1))\n",
    "                    print(state(L, j,m, j1=j1), '\\n')\n",
    "def multiplicity_S(L):\n",
    "    S_list = {}\n",
    "    for i in reversed(range(L+1)):\n",
    "        S_list['%d'%i]= prod_to_add(L).count(i)\n",
    "    return S_list\n",
    "\n",
    "\n",
    "state2 = [('0',[1,1]), ('1',[1,0]), ('2',[1,-1])]"
   ]
  },
  {
   "cell_type": "code",
   "execution_count": 4,
   "metadata": {},
   "outputs": [
    {
     "name": "stdout",
     "output_type": "stream",
     "text": [
      "[3, 2, 1, 2, 1, 0, 1]\n",
      "|J:3,M:3; j1:2,j2:1> = \n"
     ]
    },
    {
     "ename": "NameError",
     "evalue": "name 'state' is not defined",
     "output_type": "error",
     "traceback": [
      "\u001b[0;31m---------------------------------------------------------------------------\u001b[0m",
      "\u001b[0;31mNameError\u001b[0m                                 Traceback (most recent call last)",
      "\u001b[0;32m<ipython-input-4-3a67f35b52b2>\u001b[0m in \u001b[0;36m<module>\u001b[0;34m\u001b[0m\n\u001b[1;32m      1\u001b[0m \u001b[0mprint\u001b[0m\u001b[0;34m(\u001b[0m\u001b[0mprod_to_add\u001b[0m\u001b[0;34m(\u001b[0m\u001b[0;36m3\u001b[0m\u001b[0;34m)\u001b[0m\u001b[0;34m)\u001b[0m\u001b[0;34m\u001b[0m\u001b[0m\n\u001b[0;32m----> 2\u001b[0;31m \u001b[0mprint\u001b[0m\u001b[0;34m(\u001b[0m\u001b[0mprintList\u001b[0m\u001b[0;34m(\u001b[0m\u001b[0;36m3\u001b[0m\u001b[0;34m)\u001b[0m\u001b[0;34m)\u001b[0m\u001b[0;34m\u001b[0m\u001b[0m\n\u001b[0m",
      "\u001b[0;32m<ipython-input-3-04175b16f0e4>\u001b[0m in \u001b[0;36mprintList\u001b[0;34m(L)\u001b[0m\n\u001b[1;32m     30\u001b[0m                 \u001b[0;32mfor\u001b[0m \u001b[0mm\u001b[0m \u001b[0;32min\u001b[0m \u001b[0mrange\u001b[0m\u001b[0;34m(\u001b[0m\u001b[0mj\u001b[0m\u001b[0;34m,\u001b[0m\u001b[0;34m-\u001b[0m\u001b[0mj\u001b[0m\u001b[0;34m-\u001b[0m\u001b[0;36m1\u001b[0m\u001b[0;34m,\u001b[0m\u001b[0;34m-\u001b[0m\u001b[0;36m1\u001b[0m\u001b[0;34m)\u001b[0m\u001b[0;34m:\u001b[0m\u001b[0;34m\u001b[0m\u001b[0m\n\u001b[1;32m     31\u001b[0m                     \u001b[0mprint\u001b[0m\u001b[0;34m(\u001b[0m\u001b[0;34m\"|J:%d,M:%d; j1:%d,j2:1> = \"\u001b[0m\u001b[0;34m%\u001b[0m\u001b[0;34m(\u001b[0m\u001b[0mj\u001b[0m\u001b[0;34m,\u001b[0m\u001b[0mm\u001b[0m\u001b[0;34m,\u001b[0m\u001b[0mj1\u001b[0m\u001b[0;34m)\u001b[0m\u001b[0;34m)\u001b[0m\u001b[0;34m\u001b[0m\u001b[0m\n\u001b[0;32m---> 32\u001b[0;31m                     \u001b[0mprint\u001b[0m\u001b[0;34m(\u001b[0m\u001b[0mstate\u001b[0m\u001b[0;34m(\u001b[0m\u001b[0mL\u001b[0m\u001b[0;34m,\u001b[0m \u001b[0mj\u001b[0m\u001b[0;34m,\u001b[0m\u001b[0mm\u001b[0m\u001b[0;34m,\u001b[0m \u001b[0mj1\u001b[0m\u001b[0;34m=\u001b[0m\u001b[0mj1\u001b[0m\u001b[0;34m)\u001b[0m\u001b[0;34m,\u001b[0m \u001b[0;34m'\\n'\u001b[0m\u001b[0;34m)\u001b[0m\u001b[0;34m\u001b[0m\u001b[0m\n\u001b[0m\u001b[1;32m     33\u001b[0m \u001b[0;32mdef\u001b[0m \u001b[0mmultiplicity_S\u001b[0m\u001b[0;34m(\u001b[0m\u001b[0mL\u001b[0m\u001b[0;34m)\u001b[0m\u001b[0;34m:\u001b[0m\u001b[0;34m\u001b[0m\u001b[0m\n\u001b[1;32m     34\u001b[0m     \u001b[0mS_list\u001b[0m \u001b[0;34m=\u001b[0m \u001b[0;34m{\u001b[0m\u001b[0;34m}\u001b[0m\u001b[0;34m\u001b[0m\u001b[0m\n",
      "\u001b[0;31mNameError\u001b[0m: name 'state' is not defined"
     ]
    }
   ],
   "source": [
    "print(prod_to_add(3))\n",
    "print(printList(3))"
   ]
  },
  {
   "cell_type": "code",
   "execution_count": null,
   "metadata": {},
   "outputs": [],
   "source": [
    "infile = open('what.obj','wb')\n",
    "dill.dump(state(3, 1,1, j1=1), open('dillfile','wb'))\n",
    "infile.close()"
   ]
  },
  {
   "cell_type": "code",
   "execution_count": null,
   "metadata": {},
   "outputs": [],
   "source": [
    "def state(L, J, M, j1, j2 = 1, jp = None): #produce a given |JM>_L   ex: |3, M, j1= 2, j2 = 1, ?jp>\n",
    "    coeff = [0]*(3**L)\n",
    "    \n",
    "    if L == 1:\n",
    "        coeff[1-M] = 1\n",
    "        return coeff\n",
    "    elif L == 2:\n",
    "        coeff = [CG(j1,m1,j2,m2,J,M).doit() for m1 in range(j1, -j1-1, -1) for m2 in range(j2, -j2-1, -1)  ]\n",
    "        \n",
    "    else:# L==3 \n",
    "        for m1 in range(j1, -j1-1, -1):\n",
    "            for m2 in range(j2, -j2-1, -1):\n",
    "                list_coeff_i = [CG(j1,m1,j2,m2,J,M).doit()*a*b for b in state(1, 1, m2, j1, j2) \\\n",
    "                                for a in state(L-1, j1, m1, j1=jp, j2 = 1, jp=1) ]  #????j1\n",
    "                coeff = [coeff[i]+ list_coeff_i[i] for i in range(3**L)]\n",
    "        #    allState(L-1)\n",
    "    return coeff\n",
    "#*produce(L-1, j1,m1)\n",
    "\n",
    "\n",
    "def prod_to_add(L):\n",
    "\n",
    "    if L == 1: \n",
    "        return [1]\n",
    "    else:\n",
    "        add_list = []\n",
    "        for i in prod_to_add(L-1):\n",
    "            add = [j for j in range(i+1, abs(i-1)-1, -1)]\n",
    "            add_list += add\n",
    "        return add_list\n",
    "\n",
    "    \n",
    "# Keep this!\n",
    "def L_symbol(L, sym = ['2','1','0'], ): \n",
    "    sym = ['2','1','0']\n",
    "    if L == 1:\n",
    "        pass\n",
    "    else:\n",
    "        sym = [a+b for a in L_symbol(L-1) for b in sym]\n",
    "    return sym\n",
    "\n",
    "\n",
    "\n",
    "\n",
    "def printList(L):\n",
    "    if L == 2:\n",
    "        for i in prod_to_add(L):\n",
    "            for j in range(i, -i-1, -1):\n",
    "                print(\"|J:%d,M:%d; j1:1,j2:1> = \"%(i,j))\n",
    "                print(state(L, i,j, j1=1), '\\n')\n",
    "    else: \n",
    "        step = 0\n",
    "        prepreLayer = prod_to_add(L-2) # jp\n",
    "        jp = prepreLayer[step]\n",
    "        preLayer = prod_to_add(L-1)\n",
    "        prej = preLayer[0]\n",
    "        for j1 in preLayer: \n",
    "            if prej<j1: step +=1\n",
    "            for j in range(j1+1, abs(j1-1)-1, -1):\n",
    "                for m in range(j,-j-1,-1):\n",
    "                    print(\"|J:%d,M:%d; j1:%d,j2:1>  = \"%(j,m,j1))\n",
    "                    print(state(L, j,m, j1=j1, j2 = 1, jp=prepreLayer[step]), '\\n')\n",
    "            prej = j1\n",
    "    return 0\n",
    "\n",
    "\n",
    "def multiplicity_S(L):\n",
    "    S_list = {}\n",
    "    for i in reversed(range(L+1)):\n",
    "        S_list['%d'%i]= prod_to_add(L).count(i)\n",
    "    return S_list\n",
    "\n",
    "\n",
    "\n"
   ]
  },
  {
   "cell_type": "code",
   "execution_count": null,
   "metadata": {},
   "outputs": [],
   "source": [
    "L_symbol(3 )"
   ]
  },
  {
   "cell_type": "code",
   "execution_count": null,
   "metadata": {},
   "outputs": [],
   "source": [
    "a = CG(1,-1,1,1,0,0)\n",
    "i = a.doit()\n",
    "print(i)"
   ]
  },
  {
   "cell_type": "code",
   "execution_count": null,
   "metadata": {},
   "outputs": [],
   "source": []
  },
  {
   "cell_type": "code",
   "execution_count": null,
   "metadata": {},
   "outputs": [],
   "source": [
    "def test_answer():\n",
    "    #assert allState(2) == [('0',[1,1]), ('1',[1,0]), ('2',[1,-1])]\n",
    "    assert prod_to_add(1) == [1]\n",
    "    assert prod_to_add(2) == [2, 1, 0]\n",
    "    assert prod_to_add(3) == [3, 2, 1, 2, 1, 0, 1]"
   ]
  },
  {
   "cell_type": "code",
   "execution_count": null,
   "metadata": {},
   "outputs": [],
   "source": []
  }
 ],
 "metadata": {
  "kernelspec": {
   "display_name": "Python 3",
   "language": "python",
   "name": "python3"
  },
  "language_info": {
   "codemirror_mode": {
    "name": "ipython",
    "version": 3
   },
   "file_extension": ".py",
   "mimetype": "text/x-python",
   "name": "python",
   "nbconvert_exporter": "python",
   "pygments_lexer": "ipython3",
   "version": "3.6.6"
  }
 },
 "nbformat": 4,
 "nbformat_minor": 2
}
